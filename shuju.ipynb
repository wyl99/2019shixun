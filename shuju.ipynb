{
 "cells": [
  {
   "cell_type": "code",
   "execution_count": 62,
   "metadata": {},
   "outputs": [
    {
     "name": "stderr",
     "output_type": "stream",
     "text": [
      "D:\\Program Files\\Anaconda 3\\lib\\site-packages\\ipykernel_launcher.py:58: UserWarning: Boolean Series key will be reindexed to match DataFrame index.\n"
     ]
    },
    {
     "name": "stdout",
     "output_type": "stream",
     "text": [
      "{'2004': 301}\n",
      "{'2005': 1051}\n",
      "{'2006': 1367}\n",
      "{'2007': 1693}\n",
      "{'2008': 1903}\n",
      "{'2009': 2134}\n",
      "{'2010': 2616}\n",
      "{'2011': 3717}\n",
      "{'2012': 4378}\n",
      "{'2013': 1455}\n"
     ]
    }
   ],
   "source": [
    "import pandas as pd\n",
    "import numpy as np\n",
    "\n",
    "data1 = pd.read_csv(\"out1.csv\", encoding=\"ansi\")\n",
    "data2 = pd.read_csv(\"out2.csv\", encoding=\"utf_8_sig\")\n",
    "\n",
    "def LRFMC(data):\n",
    "    d1 = data.iloc[0]\n",
    "    d2 = data.iloc[1]\n",
    "    d3 = data.iloc[2]\n",
    "    d4 = data.iloc[3]\n",
    "    d5 = data.iloc[4]\n",
    "    d = {}\n",
    "    for i in range(1,6):\n",
    "        d.update({'ZL'+str(i): d1.iloc[i-1], 'ZR'+str(i): d2.iloc[i-1], 'ZF'+str(i): d3.iloc[i-1], 'ZM'+str(i): d4.iloc[i-1], 'ZC'+str(i): d5.iloc[i-1]})\n",
    "    #d = {'ZL': d1, 'ZR': d2, 'ZF': d3, 'ZM': d4, 'ZC': d5}\n",
    "    return d\n",
    "#print(LRFMC(data1))\n",
    "\n",
    "def classification(data):\n",
    "    l1 = data[data[\"Level\"] == 0]\n",
    "    l2 = data[data[\"Level\"] == 1]\n",
    "    l3 = data[data[\"Level\"] == 2]\n",
    "    l4 = data[data[\"Level\"] == 3]\n",
    "    l5 = data[data[\"Level\"] == 4]\n",
    "    n1 = l1[\"Level\"].count()\n",
    "    n2 = l2[\"Level\"].count()\n",
    "    n3 = l3[\"Level\"].count()\n",
    "    n4 = l4[\"Level\"].count()\n",
    "    n5 = l5[\"Level\"].count()\n",
    "    d = {'1': n1, '2': n2, '3': n3, '4': n4, '5': n5}\n",
    "    return d\n",
    "#print(classification(data2))\n",
    "\n",
    "def number(data):\n",
    "    l1 = data[data[\"Level\"] == 0]\n",
    "    l2 = data[data[\"Level\"] == 1]\n",
    "    l3 = data[data[\"Level\"] == 2]\n",
    "    l4 = data[data[\"Level\"] == 3]\n",
    "    l5 = data[data[\"Level\"] == 4]\n",
    "    FC1 = l1[\"FLIGHT_COUNT\"].mean()\n",
    "    AI1 = l1[\"AVG_INTERVAL\"].mean()\n",
    "    FC2 = l2[\"FLIGHT_COUNT\"].mean()\n",
    "    AI2 = l2[\"AVG_INTERVAL\"].mean()\n",
    "    FC3 = l3[\"FLIGHT_COUNT\"].mean()\n",
    "    AI3 = l3[\"AVG_INTERVAL\"].mean()\n",
    "    FC4 = l4[\"FLIGHT_COUNT\"].mean()\n",
    "    AI4 = l4[\"AVG_INTERVAL\"].mean()\n",
    "    FC5 = l5[\"FLIGHT_COUNT\"].mean()\n",
    "    AI5 = l5[\"AVG_INTERVAL\"].mean()\n",
    "    d = {'FC1': FC1, 'AI1': AI1, 'FC2': FC2, 'AI2': AI2, 'FC3': FC3, 'AI3': AI3, 'FC4': FC4, 'AI4': AI4, 'FC5': FC5, 'AI5': AI5}\n",
    "    return d\n",
    "#print (number(data2))\n",
    "\n",
    "def new(data):\n",
    "    for i in range(2004,2014):\n",
    "        d = data[data['FFP_DATE'] <= str(i)+'/12/31']\n",
    "        d = d[data['FFP_DATE'] >= str(i)+'/01/01']\n",
    "        s = d['FFP_DATE'].count()\n",
    "        dirt = {}\n",
    "        dirt.update({str(i): s})\n",
    "        print(dirt)\n",
    "new(data2)"
   ]
  }
 ],
 "metadata": {
  "kernelspec": {
   "display_name": "Python 3",
   "language": "python",
   "name": "python3"
  },
  "language_info": {
   "codemirror_mode": {
    "name": "ipython",
    "version": 3
   },
   "file_extension": ".py",
   "mimetype": "text/x-python",
   "name": "python",
   "nbconvert_exporter": "python",
   "pygments_lexer": "ipython3",
   "version": "3.7.0"
  }
 },
 "nbformat": 4,
 "nbformat_minor": 2
}
